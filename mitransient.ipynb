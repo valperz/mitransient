{
  "nbformat": 4,
  "nbformat_minor": 0,
  "metadata": {
    "colab": {
      "provenance": []
    },
    "kernelspec": {
      "name": "python3",
      "display_name": "Python 3"
    },
    "language_info": {
      "name": "python"
    }
  },
  "cells": [
    {
      "cell_type": "code",
      "execution_count": null,
      "metadata": {
        "colab": {
          "base_uri": "https://localhost:8080/"
        },
        "id": "AeSrmiYlC7YC",
        "outputId": "a0ccbc75-0823-43e6-c88a-0bd86c79001b"
      },
      "outputs": [
        {
          "output_type": "stream",
          "name": "stdout",
          "text": [
            "Requirement already satisfied: mitransient in /usr/local/lib/python3.11/dist-packages (1.0.4)\n",
            "Requirement already satisfied: mitsuba>=3.5.0 in /usr/local/lib/python3.11/dist-packages (from mitransient) (3.6.4)\n",
            "Requirement already satisfied: drjit==1.0.5 in /usr/local/lib/python3.11/dist-packages (from mitsuba>=3.5.0->mitransient) (1.0.5)\n"
          ]
        }
      ],
      "source": [
        "!pip install mitransient\n",
        "import mitsuba as mi\n",
        "mi.set_variant('scalar_rgb') #Hay que definir una variable antes de importar mitransient\n",
        "import mitransient as mitr"
      ]
    },
    {
      "cell_type": "markdown",
      "source": [
        "Integrators: Los integradores son un parametro del renderizado que nos determina como se va a propagar la luz indirectamente en una escena y también es un parametro para cuando se va a reconstruir la escena\n",
        "\n",
        "En la guia de mitransient se proponen 3, que son los mas conocidos\n",
        "\n",
        "Transient path(Ruta transistoria): es un algoritmo estandar que incluye la dimension temporal, este simula como los fotones viajan en la escena, es clave para simular la dispersión\n",
        "\n",
        "  Los parametros son:\n",
        "\n",
        "  camera_unwrap= Si es Verdadero, no se tiene en cuenta la distancia desde el origen de la cámara hasta el primer punto de intersección del rayo de la cámara. Esto le permite ver el video transitorio con los eventos que suceden en tiempo mundial. Si es Falso, se tiene en cuenta esta distancia, por lo que ve lo mismo que vería con una cámara ultrarrápida del mundo real. (predeterminado: falso)\n",
        "\n",
        "  temporal_filter= Puede tener valor 'box' para un filtro sin parametros, 'gaussian' para un filtro gaussiano(MEJORAR INFORMACION DE ESTA PARTE)\n",
        "\n",
        "  gaussian_sttdev= Cuando es 'gaussian' marca la desviación estándar del filtro gaussiano (valor predeterminado: 2.0)\n",
        "\n",
        "  block_size= Tamaño de los bloques de imagen\n",
        "\n",
        "  max_depth= Especifica la profundidad de la ruta más larga en la imagen de salida generada\n",
        "\n",
        "  rr_depth= Especifica la profundidad de la ruta en la que la implementación comenzará a utilizar el criterio de terminación de ruta\n"
      ],
      "metadata": {
        "id": "FLZOTQ8MGFrK"
      }
    },
    {
      "cell_type": "code",
      "source": [
        "import os\n",
        "scene = mi.load_file(os.path.abspath('/content/cbox_volumetric.xml'))"
      ],
      "metadata": {
        "colab": {
          "base_uri": "https://localhost:8080/",
          "height": 222
        },
        "id": "mlj9sn6CEGDU",
        "outputId": "b11993b3-e9c1-4b58-b7bf-cec0da0036aa"
      },
      "execution_count": null,
      "outputs": [
        {
          "output_type": "error",
          "ename": "RuntimeError",
          "evalue": "​[xml.cpp:1078] Error while loading \"/content/cbox_volumetric.xml\" (near line 8, col 3): could not instantiate integrator plugin of type \"transient_prbvolpath\": \n[xml.cpp:1078]   [PluginManager] Plugin \"transient_prbvolpath\" not found!",
          "traceback": [
            "\u001b[0;31m---------------------------------------------------------------------------\u001b[0m",
            "\u001b[0;31mRuntimeError\u001b[0m                              Traceback (most recent call last)",
            "\u001b[0;32m<ipython-input-13-23b1eaa3b4a2>\u001b[0m in \u001b[0;36m<cell line: 0>\u001b[0;34m()\u001b[0m\n\u001b[1;32m      1\u001b[0m \u001b[0;32mimport\u001b[0m \u001b[0mos\u001b[0m\u001b[0;34m\u001b[0m\u001b[0;34m\u001b[0m\u001b[0m\n\u001b[0;32m----> 2\u001b[0;31m \u001b[0mscene\u001b[0m \u001b[0;34m=\u001b[0m \u001b[0mmi\u001b[0m\u001b[0;34m.\u001b[0m\u001b[0mload_file\u001b[0m\u001b[0;34m(\u001b[0m\u001b[0mos\u001b[0m\u001b[0;34m.\u001b[0m\u001b[0mpath\u001b[0m\u001b[0;34m.\u001b[0m\u001b[0mabspath\u001b[0m\u001b[0;34m(\u001b[0m\u001b[0;34m'/content/cbox_volumetric.xml'\u001b[0m\u001b[0;34m)\u001b[0m\u001b[0;34m)\u001b[0m\u001b[0;34m\u001b[0m\u001b[0;34m\u001b[0m\u001b[0m\n\u001b[0m",
            "\u001b[0;31mRuntimeError\u001b[0m: ​[xml.cpp:1078] Error while loading \"/content/cbox_volumetric.xml\" (near line 8, col 3): could not instantiate integrator plugin of type \"transient_prbvolpath\": \n[xml.cpp:1078]   [PluginManager] Plugin \"transient_prbvolpath\" not found!"
          ]
        }
      ]
    },
    {
      "cell_type": "code",
      "source": [
        "transient_integrator = scene.integrator() #Inicializa el integrador\n",
        "transient_integrator.prepare_transient(scene, sensor=0) #Sensor=0 indica que es el primer sensor\n",
        "data_steady, data_transient = transient_integrator.render(scene, spp=1024) #Renderiza la escena usando 1024 samples per pixel (spp) para mejorar la calidad\n",
        "print(data_steady.shape, data_transient.shape)"
      ],
      "metadata": {
        "id": "jvQzmlggKy-f"
      },
      "execution_count": null,
      "outputs": []
    },
    {
      "cell_type": "code",
      "source": [
        "mi.util.convert_to_bitmap(data_steady) #Para mostrar la imagen :D"
      ],
      "metadata": {
        "id": "dwpgbR8SLBNn"
      },
      "execution_count": null,
      "outputs": []
    },
    {
      "cell_type": "code",
      "source": [
        "# Para ponerlo en videito uwu\n",
        "import numpy as np\n",
        "\n",
        "data_transient_tonemapped = mitr.vis.tonemap_transient(\n",
        "    np.moveaxis(data_transient, 0, 1)\n",
        ")\n",
        "\n",
        "mitr.vis.show_video(\n",
        "    data_transient_tonemapped,\n",
        "    axis_video=2,\n",
        ")"
      ],
      "metadata": {
        "id": "8IIfrvxVLFfb"
      },
      "execution_count": null,
      "outputs": []
    }
  ]
}